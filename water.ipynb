{
 "cells": [
  {
   "cell_type": "code",
   "execution_count": 54,
   "source": [
    "import pandas as pd\r\n",
    "import matplotlib.pyplot as plt\r\n",
    "import seaborn as sns\r\n",
    "\r\n",
    "from sklearn.model_selection import train_test_split\r\n",
    "from sklearn.preprocessing import StandardScaler\r\n",
    "from sklearn.linear_model import LogisticRegression\r\n",
    "from sklearn.svm import SVC, LinearSVC\r\n",
    "from sklearn.ensemble import RandomForestClassifier\r\n",
    "from sklearn.neighbors import KNeighborsClassifier\r\n",
    "from sklearn.naive_bayes import GaussianNB\r\n",
    "from sklearn.linear_model import Perceptron\r\n",
    "from sklearn.linear_model import SGDClassifier\r\n",
    "from sklearn.tree import DecisionTreeClassifier"
   ],
   "outputs": [],
   "metadata": {}
  },
  {
   "cell_type": "code",
   "execution_count": 26,
   "source": [
    "df = pd.read_csv('water_potability.csv')\r\n",
    "df.sample(5)"
   ],
   "outputs": [
    {
     "output_type": "execute_result",
     "data": {
      "text/html": [
       "<div>\n",
       "<style scoped>\n",
       "    .dataframe tbody tr th:only-of-type {\n",
       "        vertical-align: middle;\n",
       "    }\n",
       "\n",
       "    .dataframe tbody tr th {\n",
       "        vertical-align: top;\n",
       "    }\n",
       "\n",
       "    .dataframe thead th {\n",
       "        text-align: right;\n",
       "    }\n",
       "</style>\n",
       "<table border=\"1\" class=\"dataframe\">\n",
       "  <thead>\n",
       "    <tr style=\"text-align: right;\">\n",
       "      <th></th>\n",
       "      <th>ph</th>\n",
       "      <th>Hardness</th>\n",
       "      <th>Solids</th>\n",
       "      <th>Chloramines</th>\n",
       "      <th>Sulfate</th>\n",
       "      <th>Conductivity</th>\n",
       "      <th>Organic_carbon</th>\n",
       "      <th>Trihalomethanes</th>\n",
       "      <th>Turbidity</th>\n",
       "      <th>Potability</th>\n",
       "    </tr>\n",
       "  </thead>\n",
       "  <tbody>\n",
       "    <tr>\n",
       "      <th>1538</th>\n",
       "      <td>7.256015</td>\n",
       "      <td>196.649823</td>\n",
       "      <td>44184.230460</td>\n",
       "      <td>5.265558</td>\n",
       "      <td>260.425605</td>\n",
       "      <td>324.250148</td>\n",
       "      <td>8.148929</td>\n",
       "      <td>69.375044</td>\n",
       "      <td>4.534960</td>\n",
       "      <td>1</td>\n",
       "    </tr>\n",
       "    <tr>\n",
       "      <th>3057</th>\n",
       "      <td>7.985406</td>\n",
       "      <td>200.134697</td>\n",
       "      <td>17583.080335</td>\n",
       "      <td>6.771729</td>\n",
       "      <td>296.569823</td>\n",
       "      <td>377.584203</td>\n",
       "      <td>10.289288</td>\n",
       "      <td>66.890747</td>\n",
       "      <td>4.752452</td>\n",
       "      <td>0</td>\n",
       "    </tr>\n",
       "    <tr>\n",
       "      <th>403</th>\n",
       "      <td>7.088941</td>\n",
       "      <td>206.364122</td>\n",
       "      <td>13839.713426</td>\n",
       "      <td>8.088242</td>\n",
       "      <td>321.296141</td>\n",
       "      <td>369.969333</td>\n",
       "      <td>14.896092</td>\n",
       "      <td>66.674658</td>\n",
       "      <td>5.661104</td>\n",
       "      <td>1</td>\n",
       "    </tr>\n",
       "    <tr>\n",
       "      <th>1654</th>\n",
       "      <td>5.899937</td>\n",
       "      <td>205.913786</td>\n",
       "      <td>30379.359441</td>\n",
       "      <td>9.446148</td>\n",
       "      <td>312.283210</td>\n",
       "      <td>512.336528</td>\n",
       "      <td>6.306055</td>\n",
       "      <td>55.065243</td>\n",
       "      <td>3.858979</td>\n",
       "      <td>0</td>\n",
       "    </tr>\n",
       "    <tr>\n",
       "      <th>678</th>\n",
       "      <td>4.168248</td>\n",
       "      <td>164.351289</td>\n",
       "      <td>23863.716864</td>\n",
       "      <td>8.593819</td>\n",
       "      <td>NaN</td>\n",
       "      <td>547.466831</td>\n",
       "      <td>13.843494</td>\n",
       "      <td>71.046735</td>\n",
       "      <td>2.804525</td>\n",
       "      <td>1</td>\n",
       "    </tr>\n",
       "  </tbody>\n",
       "</table>\n",
       "</div>"
      ],
      "text/plain": [
       "            ph    Hardness        Solids  Chloramines     Sulfate  \\\n",
       "1538  7.256015  196.649823  44184.230460     5.265558  260.425605   \n",
       "3057  7.985406  200.134697  17583.080335     6.771729  296.569823   \n",
       "403   7.088941  206.364122  13839.713426     8.088242  321.296141   \n",
       "1654  5.899937  205.913786  30379.359441     9.446148  312.283210   \n",
       "678   4.168248  164.351289  23863.716864     8.593819         NaN   \n",
       "\n",
       "      Conductivity  Organic_carbon  Trihalomethanes  Turbidity  Potability  \n",
       "1538    324.250148        8.148929        69.375044   4.534960           1  \n",
       "3057    377.584203       10.289288        66.890747   4.752452           0  \n",
       "403     369.969333       14.896092        66.674658   5.661104           1  \n",
       "1654    512.336528        6.306055        55.065243   3.858979           0  \n",
       "678     547.466831       13.843494        71.046735   2.804525           1  "
      ]
     },
     "metadata": {},
     "execution_count": 26
    }
   ],
   "metadata": {}
  },
  {
   "cell_type": "code",
   "execution_count": 4,
   "source": [
    "df.shape"
   ],
   "outputs": [
    {
     "output_type": "execute_result",
     "data": {
      "text/plain": [
       "(3276, 10)"
      ]
     },
     "metadata": {},
     "execution_count": 4
    }
   ],
   "metadata": {}
  },
  {
   "cell_type": "markdown",
   "source": [
    "# Analysis  (unfinished)"
   ],
   "metadata": {}
  },
  {
   "cell_type": "markdown",
   "source": [
    "\r\n",
    "![pH scale](https://blog.jencoi.com/hs-fs/hubfs/103211917_m.jpg?width=1200&name=103211917_m.jpg)\r\n",
    "\r\n",
    "The data includes **3276 water** samples and **10 features** , incl.\r\n",
    "- **pH** is a measure of how acidic/basic water is. The range goes from 0 - 14, with 7 being neutral. WHO has recommended maximum permissible limit of pH from 6.5 to 8.5\r\n",
    "- **Hardness** Capacity of water to precipitate soap in mg/L\r\n",
    "- **Solids (Total dissolved solids - TDS)** represents the total concentration of dissolved substances in water.\r\n",
    "- **Chloramines** are disinfectants used to treat drinking water.\r\n",
    "- **Sulfate** Amount of Sulfates dissolved in mg/L\r\n",
    "- **Conductivity** Electrical conductivity of water in μS/cm\r\n",
    "- **Organic_carbon** Amount of organic carbon in ppm\r\n",
    "- **Trihalomethanes** Amount of Trihalomethanes in μg/L\r\n",
    "- **Turbidity** Measure of light emiting property of water in NTU (Nephelometric Turbidity Units)\r\n",
    "- **Potability** Indicates if water is safe for human consumption where 1 means Potable and 0 means Not potable."
   ],
   "metadata": {}
  },
  {
   "cell_type": "code",
   "execution_count": 5,
   "source": [
    "features = ['ph', 'Hardness', 'Solids', 'Chloramines', 'Sulfate', 'Conductivity', \r\n",
    "            'Organic_carbon', 'Trihalomethanes', 'Turbidity']"
   ],
   "outputs": [],
   "metadata": {}
  },
  {
   "cell_type": "code",
   "execution_count": 6,
   "source": [
    "for col in features:\r\n",
    "    plt.figure(figsize=(12, 8))\r\n",
    "    sns.displot(df[col])\r\n",
    "    plt.show()"
   ],
   "outputs": [
    {
     "output_type": "display_data",
     "data": {
      "text/plain": [
       "<Figure size 864x576 with 0 Axes>"
      ]
     },
     "metadata": {}
    },
    {
     "output_type": "display_data",
     "data": {
      "image/png": "[encoded data removed]",
      "text/plain": [
       "<Figure size 360x360 with 1 Axes>"
      ]
     },
     "metadata": {
      "needs_background": "light"
     }
    },
    {
     "output_type": "display_data",
     "data": {
      "text/plain": [
       "<Figure size 864x576 with 0 Axes>"
      ]
     },
     "metadata": {}
    },
    {
     "output_type": "display_data",
     "data": {
      "image/png": "[encoded data removed]",
      "text/plain": [
       "<Figure size 360x360 with 1 Axes>"
      ]
     },
     "metadata": {
      "needs_background": "light"
     }
    },
    {
     "output_type": "display_data",
     "data": {
      "text/plain": [
       "<Figure size 864x576 with 0 Axes>"
      ]
     },
     "metadata": {}
    },
    {
     "output_type": "display_data",
     "data": {
      "image/png": "[encoded data removed]",
      "text/plain": [
       "<Figure size 360x360 with 1 Axes>"
      ]
     },
     "metadata": {
      "needs_background": "light"
     }
    },
    {
     "output_type": "display_data",
     "data": {
      "text/plain": [
       "<Figure size 864x576 with 0 Axes>"
      ]
     },
     "metadata": {}
    },
    {
     "output_type": "display_data",
     "data": {
      "image/png": "[encoded data removed]",
      "text/plain": [
       "<Figure size 360x360 with 1 Axes>"
      ]
     },
     "metadata": {
      "needs_background": "light"
     }
    },
    {
     "output_type": "display_data",
     "data": {
      "text/plain": [
       "<Figure size 864x576 with 0 Axes>"
      ]
     },
     "metadata": {}
    },
    {
     "output_type": "display_data",
     "data": {
      "image/png": "[encoded data removed]",
      "text/plain": [
       "<Figure size 360x360 with 1 Axes>"
      ]
     },
     "metadata": {
      "needs_background": "light"
     }
    },
    {
     "output_type": "display_data",
     "data": {
      "text/plain": [
       "<Figure size 864x576 with 0 Axes>"
      ]
     },
     "metadata": {}
    },
    {
     "output_type": "display_data",
     "data": {
      "image/png": "[encoded data removed]",
      "text/plain": [
       "<Figure size 360x360 with 1 Axes>"
      ]
     },
     "metadata": {
      "needs_background": "light"
     }
    },
    {
     "output_type": "display_data",
     "data": {
      "text/plain": [
       "<Figure size 864x576 with 0 Axes>"
      ]
     },
     "metadata": {}
    },
    {
     "output_type": "display_data",
     "data": {
      "image/png": "[encoded data removed]",
      "text/plain": [
       "<Figure size 360x360 with 1 Axes>"
      ]
     },
     "metadata": {
      "needs_background": "light"
     }
    },
    {
     "output_type": "display_data",
     "data": {
      "text/plain": [
       "<Figure size 864x576 with 0 Axes>"
      ]
     },
     "metadata": {}
    },
    {
     "output_type": "display_data",
     "data": {
      "image/png": "[encoded data removed]",
      "text/plain": [
       "<Figure size 360x360 with 1 Axes>"
      ]
     },
     "metadata": {
      "needs_background": "light"
     }
    },
    {
     "output_type": "display_data",
     "data": {
      "text/plain": [
       "<Figure size 864x576 with 0 Axes>"
      ]
     },
     "metadata": {}
    },
    {
     "output_type": "display_data",
     "data": {
      "image/png": "[encoded data removed]",
      "text/plain": [
       "<Figure size 360x360 with 1 Axes>"
      ]
     },
     "metadata": {
      "needs_background": "light"
     }
    }
   ],
   "metadata": {}
  },
  {
   "cell_type": "code",
   "execution_count": 7,
   "source": [
    "plt.figure(figsize=(12, 8))\r\n",
    "sns.countplot(data=df, x='Potability')\r\n",
    "plt.show()"
   ],
   "outputs": [
    {
     "output_type": "display_data",
     "data": {
      "image/png": "[encoded data removed]",
      "text/plain": [
       "<Figure size 864x576 with 1 Axes>"
      ]
     },
     "metadata": {
      "needs_background": "light"
     }
    }
   ],
   "metadata": {}
  },
  {
   "cell_type": "markdown",
   "source": [
    "# Null Values"
   ],
   "metadata": {}
  },
  {
   "cell_type": "code",
   "execution_count": 30,
   "source": [
    "for i in df.columns:\r\n",
    "    if df[i].isnull().sum()>0:\r\n",
    "        print(\"There are {} null values in {} column\".format(df[i].isnull().sum(),i))"
   ],
   "outputs": [],
   "metadata": {}
  },
  {
   "cell_type": "code",
   "execution_count": 29,
   "source": [
    "df[\"Trihalomethanes\"].fillna(value=df[\"Trihalomethanes\"].mean(), inplace=True)"
   ],
   "outputs": [],
   "metadata": {}
  },
  {
   "cell_type": "code",
   "execution_count": 28,
   "source": [
    "df[\"Sulfate\"].fillna(value=df[\"Sulfate\"].mean(), inplace=True)"
   ],
   "outputs": [],
   "metadata": {}
  },
  {
   "cell_type": "code",
   "execution_count": 27,
   "source": [
    "df['ph'].fillna(value=df['ph'].mean(), inplace=True)"
   ],
   "outputs": [],
   "metadata": {}
  },
  {
   "cell_type": "markdown",
   "source": [
    "# Models"
   ],
   "metadata": {}
  },
  {
   "cell_type": "code",
   "execution_count": 47,
   "source": [
    "X = df.drop(['Potability'], axis = 1)\r\n",
    "y = df['Potability']"
   ],
   "outputs": [],
   "metadata": {}
  },
  {
   "cell_type": "code",
   "execution_count": 48,
   "source": [
    "#Standardizing The Data\r\n",
    "sc = StandardScaler()\r\n",
    "X = sc.fit_transform(X)"
   ],
   "outputs": [],
   "metadata": {}
  },
  {
   "cell_type": "code",
   "execution_count": 49,
   "source": [
    "#Decision Tree\r\n",
    "decision_tree = DecisionTreeClassifier()\r\n",
    "decision_tree.fit(X, y)\r\n",
    "\r\n",
    "acc_decision_tree = round(decision_tree.score(X, y) * 100, 2)\r\n",
    "acc_decision_tree"
   ],
   "outputs": [
    {
     "output_type": "execute_result",
     "data": {
      "text/plain": [
       "100.0"
      ]
     },
     "metadata": {},
     "execution_count": 49
    }
   ],
   "metadata": {}
  },
  {
   "cell_type": "code",
   "execution_count": 50,
   "source": [
    "#Random Forest\r\n",
    "random_forest = RandomForestClassifier(n_estimators=100)\r\n",
    "random_forest.fit(X, y)\r\n",
    "\r\n",
    "random_forest.score(X, y)\r\n",
    "acc_random_forest = round(random_forest.score(X, y) * 100, 2)\r\n",
    "acc_random_forest"
   ],
   "outputs": [
    {
     "output_type": "execute_result",
     "data": {
      "text/plain": [
       "100.0"
      ]
     },
     "metadata": {},
     "execution_count": 50
    }
   ],
   "metadata": {}
  },
  {
   "cell_type": "code",
   "execution_count": 51,
   "source": [
    "#KNeighbors Classifier\r\n",
    "knn = KNeighborsClassifier(n_neighbors = 3)\r\n",
    "knn.fit(X, y)\r\n",
    "\r\n",
    "acc_knn = round(knn.score(X, y) * 100, 2)\r\n",
    "acc_knn"
   ],
   "outputs": [
    {
     "output_type": "execute_result",
     "data": {
      "text/plain": [
       "80.98"
      ]
     },
     "metadata": {},
     "execution_count": 51
    }
   ],
   "metadata": {}
  },
  {
   "cell_type": "code",
   "execution_count": 52,
   "source": [
    "#Logistic Regression\r\n",
    "logreg = LogisticRegression()\r\n",
    "logreg.fit(X, y)\r\n",
    "\r\n",
    "acc_log = round(logreg.score(X, y) * 100, 2)\r\n",
    "acc_log"
   ],
   "outputs": [
    {
     "output_type": "execute_result",
     "data": {
      "text/plain": [
       "61.02"
      ]
     },
     "metadata": {},
     "execution_count": 52
    }
   ],
   "metadata": {}
  },
  {
   "cell_type": "code",
   "execution_count": 53,
   "source": [
    "models = pd.DataFrame({\r\n",
    "    'Model': [ 'KNN', 'Logistic Regression', \r\n",
    "              'Random Forest',\r\n",
    "              'Decision Tree'],\r\n",
    "    'Score': [ acc_knn, acc_log, \r\n",
    "              acc_random_forest, acc_decision_tree]})\r\n",
    "models.sort_values(by='Score', ascending=False)"
   ],
   "outputs": [
    {
     "output_type": "execute_result",
     "data": {
      "text/html": [
       "<div>\n",
       "<style scoped>\n",
       "    .dataframe tbody tr th:only-of-type {\n",
       "        vertical-align: middle;\n",
       "    }\n",
       "\n",
       "    .dataframe tbody tr th {\n",
       "        vertical-align: top;\n",
       "    }\n",
       "\n",
       "    .dataframe thead th {\n",
       "        text-align: right;\n",
       "    }\n",
       "</style>\n",
       "<table border=\"1\" class=\"dataframe\">\n",
       "  <thead>\n",
       "    <tr style=\"text-align: right;\">\n",
       "      <th></th>\n",
       "      <th>Model</th>\n",
       "      <th>Score</th>\n",
       "    </tr>\n",
       "  </thead>\n",
       "  <tbody>\n",
       "    <tr>\n",
       "      <th>2</th>\n",
       "      <td>Random Forest</td>\n",
       "      <td>100.00</td>\n",
       "    </tr>\n",
       "    <tr>\n",
       "      <th>3</th>\n",
       "      <td>Decision Tree</td>\n",
       "      <td>100.00</td>\n",
       "    </tr>\n",
       "    <tr>\n",
       "      <th>0</th>\n",
       "      <td>KNN</td>\n",
       "      <td>80.98</td>\n",
       "    </tr>\n",
       "    <tr>\n",
       "      <th>1</th>\n",
       "      <td>Logistic Regression</td>\n",
       "      <td>61.02</td>\n",
       "    </tr>\n",
       "  </tbody>\n",
       "</table>\n",
       "</div>"
      ],
      "text/plain": [
       "                 Model   Score\n",
       "2        Random Forest  100.00\n",
       "3        Decision Tree  100.00\n",
       "0                  KNN   80.98\n",
       "1  Logistic Regression   61.02"
      ]
     },
     "metadata": {},
     "execution_count": 53
    }
   ],
   "metadata": {}
  }
 ],
 "metadata": {
  "orig_nbformat": 4,
  "language_info": {
   "name": "python",
   "version": "3.8.8",
   "mimetype": "text/x-python",
   "codemirror_mode": {
    "name": "ipython",
    "version": 3
   },
   "pygments_lexer": "ipython3",
   "nbconvert_exporter": "python",
   "file_extension": ".py"
  },
  "kernelspec": {
   "name": "python3",
   "display_name": "Python 3.8.8 64-bit ('base': conda)"
  },
  "interpreter": {
   "hash": "9ddd8199245e305e8cf4c67a89eb7eb70546730e12d8f91cd61fe72d9ca0d656"
  }
 },
 "nbformat": 4,
 "nbformat_minor": 2
}